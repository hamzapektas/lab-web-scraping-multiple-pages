{
 "cells": [
  {
   "cell_type": "code",
   "execution_count": 21,
   "id": "3e9510dd",
   "metadata": {},
   "outputs": [],
   "source": [
    "from bs4 import BeautifulSoup\n",
    "import requests\n",
    "import pandas as pd"
   ]
  },
  {
   "cell_type": "code",
   "execution_count": 22,
   "id": "b37747dd",
   "metadata": {},
   "outputs": [],
   "source": [
    "url = \"https://playback.fm/charts/top-100-songs/1900\""
   ]
  },
  {
   "cell_type": "code",
   "execution_count": 23,
   "id": "51fdac43",
   "metadata": {},
   "outputs": [
    {
     "data": {
      "text/plain": [
       "200"
      ]
     },
     "execution_count": 23,
     "metadata": {},
     "output_type": "execute_result"
    }
   ],
   "source": [
    "response = requests.get(url)\n",
    "response.status_code"
   ]
  },
  {
   "cell_type": "code",
   "execution_count": 24,
   "id": "ee89158b",
   "metadata": {},
   "outputs": [],
   "source": [
    "soup = BeautifulSoup(response.content, \"html.parser\")"
   ]
  },
  {
   "cell_type": "code",
   "execution_count": null,
   "id": "8a3b4825",
   "metadata": {},
   "outputs": [],
   "source": [
    "# soup"
   ]
  },
  {
   "cell_type": "code",
   "execution_count": 25,
   "id": "166e235e",
   "metadata": {},
   "outputs": [],
   "source": [
    "from time import sleep\n",
    "from random import randint"
   ]
  },
  {
   "cell_type": "code",
   "execution_count": null,
   "id": "6cf18c65",
   "metadata": {},
   "outputs": [],
   "source": [
    "# iterations = range(1900, 2000, 10)\n",
    "\n",
    "# songs = []\n",
    "\n",
    "# for i in iterations:\n",
    "#     start_at= str(i)\n",
    "#     url = \"https://playback.fm/charts/top-100-songs/\"+ start_at +\"\"\n",
    "#     response = requests.get(url)\n",
    "    \n",
    "#     print(url)\n",
    "    \n",
    "#     soup = BeautifulSoup(response.content, \"html.parser\")\n",
    "#     songs.append(soup.select(\"#myTable\"))\n",
    "    \n",
    "#     wait_time = randint(1,4)\n",
    "#     print(\"I will sleep for \" + str(wait_time) + \" second/s.\")\n",
    "#     sleep(wait_time)"
   ]
  },
  {
   "cell_type": "code",
   "execution_count": 26,
   "id": "c4fc58a3",
   "metadata": {},
   "outputs": [
    {
     "name": "stdout",
     "output_type": "stream",
     "text": [
      "https://playback.fm/charts/top-100-songs/1900\n",
      "Status code: 200\n",
      "I will sleep for 4 second/s.\n",
      "https://playback.fm/charts/top-100-songs/1910\n",
      "Status code: 200\n",
      "I will sleep for 2 second/s.\n",
      "https://playback.fm/charts/top-100-songs/1920\n",
      "Status code: 200\n",
      "I will sleep for 2 second/s.\n",
      "https://playback.fm/charts/top-100-songs/1930\n",
      "Status code: 200\n",
      "I will sleep for 3 second/s.\n",
      "https://playback.fm/charts/top-100-songs/1940\n",
      "Status code: 200\n",
      "I will sleep for 3 second/s.\n",
      "https://playback.fm/charts/top-100-songs/1950\n",
      "Status code: 200\n",
      "I will sleep for 1 second/s.\n",
      "https://playback.fm/charts/top-100-songs/1960\n",
      "Status code: 200\n",
      "I will sleep for 4 second/s.\n",
      "https://playback.fm/charts/top-100-songs/1970\n",
      "Status code: 200\n",
      "I will sleep for 2 second/s.\n",
      "https://playback.fm/charts/top-100-songs/1980\n",
      "Status code: 200\n",
      "I will sleep for 1 second/s.\n",
      "https://playback.fm/charts/top-100-songs/1990\n",
      "Status code: 200\n",
      "I will sleep for 2 second/s.\n"
     ]
    }
   ],
   "source": [
    "iterations = range(1900, 2000, 10)\n",
    "\n",
    "songs = []\n",
    "\n",
    "for i in iterations:\n",
    "    start_at= str(i)\n",
    "    url = \"https://playback.fm/charts/top-100-songs/\"+ start_at +\"\"\n",
    "    print(url)\n",
    "    \n",
    "    response = requests.get(url)\n",
    "    print(\"Status code: \" + str(response.status_code))\n",
    "    \n",
    "#     soup = BeautifulSoup(response.content, \"html.parser\")\n",
    "#     songs.append(soup.select(\"#myTable\"))\n",
    "    \n",
    "    songs.append(response)\n",
    "    \n",
    "    wait_time = randint(1,4)\n",
    "    print(\"I will sleep for \" + str(wait_time) + \" second/s.\")\n",
    "    sleep(wait_time)\n"
   ]
  },
  {
   "cell_type": "code",
   "execution_count": null,
   "id": "4ddb7270",
   "metadata": {},
   "outputs": [],
   "source": [
    "# print(BeautifulSoup(songs[0].content, \"html.parser\").prettify())"
   ]
  },
  {
   "cell_type": "code",
   "execution_count": 27,
   "id": "cfa959c8",
   "metadata": {},
   "outputs": [
    {
     "data": {
      "text/plain": [
       "[<Response [200]>,\n",
       " <Response [200]>,\n",
       " <Response [200]>,\n",
       " <Response [200]>,\n",
       " <Response [200]>,\n",
       " <Response [200]>,\n",
       " <Response [200]>,\n",
       " <Response [200]>,\n",
       " <Response [200]>,\n",
       " <Response [200]>]"
      ]
     },
     "execution_count": 27,
     "metadata": {},
     "output_type": "execute_result"
    }
   ],
   "source": [
    "songs"
   ]
  },
  {
   "cell_type": "code",
   "execution_count": null,
   "id": "c84eee89",
   "metadata": {},
   "outputs": [],
   "source": [
    "# songs[0].content"
   ]
  },
  {
   "cell_type": "code",
   "execution_count": 28,
   "id": "66631b1d",
   "metadata": {},
   "outputs": [],
   "source": [
    "soup = BeautifulSoup(songs[0].content, \"html.parser\")"
   ]
  },
  {
   "cell_type": "code",
   "execution_count": 29,
   "id": "74f18ef3",
   "metadata": {},
   "outputs": [
    {
     "data": {
      "text/plain": [
       "[]"
      ]
     },
     "execution_count": 29,
     "metadata": {},
     "output_type": "execute_result"
    }
   ],
   "source": [
    "soup.select(\"#myTable > tbody > tr:nth-child(1) > td.mobile-hide > a > span.song\")"
   ]
  },
  {
   "cell_type": "code",
   "execution_count": 30,
   "id": "74de736b",
   "metadata": {},
   "outputs": [
    {
     "data": {
      "text/plain": [
       "[<span class=\"song\" itemprop=\"name\">Ma Tiger Lily</span>,\n",
       " <span class=\"song\" itemprop=\"name\">Ma Blushin' Rosie</span>,\n",
       " <span class=\"song\" itemprop=\"name\">When Cloe Sings a Song</span>,\n",
       " <span class=\"song\" itemprop=\"name\">Because</span>,\n",
       " <span class=\"song\" itemprop=\"name\">When You Were Sweet Sixteen</span>,\n",
       " <span class=\"song\" itemprop=\"name\">I Want to Be a Military Man</span>,\n",
       " <span class=\"song\" itemprop=\"name\">Mandy Lee</span>,\n",
       " <span class=\"song\" itemprop=\"name\">When You Were Sweet Sixteen</span>,\n",
       " <span class=\"song\" itemprop=\"name\">Ma Tiger Lily</span>,\n",
       " <span class=\"song\" itemprop=\"name\">A Bird in a Gilded Cage</span>,\n",
       " <span class=\"song\" itemprop=\"name\">A Bird in a Gilded Cage</span>,\n",
       " <span class=\"song\" itemprop=\"name\">Old Folks at Home (Way Down Upon the Swanee River)</span>,\n",
       " <span class=\"song\" itemprop=\"name\">A Coon Band Contest</span>,\n",
       " <span class=\"song\" itemprop=\"name\">The Holy City</span>,\n",
       " <span class=\"song\" itemprop=\"name\">I Can't Tell Why I Love You But I Do</span>,\n",
       " <span class=\"song\" itemprop=\"name\">In the Shadow of the Pines</span>,\n",
       " <span class=\"song\" itemprop=\"name\">Mandy Lee</span>,\n",
       " <span class=\"song\" itemprop=\"name\">When We are Married</span>,\n",
       " <span class=\"song\" itemprop=\"name\">My Sunny Southern Home</span>,\n",
       " <span class=\"song\" itemprop=\"name\">When Reuben Comes to Town</span>,\n",
       " <span class=\"song\" itemprop=\"name\">A Bird in a Gilded Cage</span>,\n",
       " <span class=\"song\" itemprop=\"name\">Good-Bye, Dolly Gray</span>,\n",
       " <span class=\"song\" itemprop=\"name\">If it Wasn't For The 'Ouses in Between</span>,\n",
       " <span class=\"song\" itemprop=\"name\">My Wild Irish Rose</span>,\n",
       " <span class=\"song\" itemprop=\"name\">San Francisco Sadie</span>,\n",
       " <span class=\"song\" itemprop=\"name\">A Night Trip to Buffalo</span>,\n",
       " <span class=\"song\" itemprop=\"name\">Soldiers of The Queen</span>,\n",
       " <span class=\"song\" itemprop=\"name\">Little Brown Jug</span>,\n",
       " <span class=\"song\" itemprop=\"name\">If You Were Only Mine</span>,\n",
       " <span class=\"song\" itemprop=\"name\">Mandy Lee</span>,\n",
       " <span class=\"song\" itemprop=\"name\">I'd Leave My Happy Home for You</span>,\n",
       " <span class=\"song\" itemprop=\"name\">The Miner's Dream of Home</span>,\n",
       " <span class=\"song\" itemprop=\"name\">I Love You Just the Same</span>,\n",
       " <span class=\"song\" itemprop=\"name\">Nothing's Too Good for the Irish</span>,\n",
       " <span class=\"song\" itemprop=\"name\">La Paimpolaise</span>,\n",
       " <span class=\"song\" itemprop=\"name\">Le Trottoir De L'exposition</span>]"
      ]
     },
     "execution_count": 30,
     "metadata": {},
     "output_type": "execute_result"
    }
   ],
   "source": [
    "soup.select(\"td.mobile-hide > a > span.song\")"
   ]
  },
  {
   "cell_type": "code",
   "execution_count": 31,
   "id": "8bc61860",
   "metadata": {},
   "outputs": [
    {
     "data": {
      "text/plain": [
       "[]"
      ]
     },
     "execution_count": 31,
     "metadata": {},
     "output_type": "execute_result"
    }
   ],
   "source": [
    "soup.select(\"#myTable > tbody > tr:nth-child(1) > td:nth-child(2) > a\")"
   ]
  },
  {
   "cell_type": "code",
   "execution_count": 32,
   "id": "93c3f702",
   "metadata": {},
   "outputs": [
    {
     "data": {
      "text/plain": [
       "[<a class=\"artist\" href=\"/artist/arthur-francis-collins-top-songs\" itemprop=\"byArtist\">\n",
       " Arthur Collins\n",
       " </a>,\n",
       " <a class=\"artist\" href=\"/artist/albert-c-campbell-top-songs\" itemprop=\"byArtist\">\n",
       " Albert Campbell\n",
       " </a>,\n",
       " <a class=\"artist\" href=\"/artist/george-j-gaskin-top-songs\" itemprop=\"byArtist\">\n",
       " George J Gaskin\n",
       " </a>,\n",
       " <a class=\"artist\" href=\"/artist/haydn-quartet-top-songs\" itemprop=\"byArtist\">\n",
       " Haydn Quartet\n",
       " </a>,\n",
       " <a class=\"artist\" href=\"/artist/george-j-gaskin-top-songs\" itemprop=\"byArtist\">\n",
       " George J Gaskin\n",
       " </a>,\n",
       " <a class=\"artist\" href=\"/artist/louis-bradfield-top-songs\" itemprop=\"byArtist\">\n",
       " Louis Bradfield\n",
       " </a>,\n",
       " <a class=\"artist\" href=\"/artist/arthur-francis-collins-top-songs\" itemprop=\"byArtist\">\n",
       " Arthur Collins\n",
       " </a>,\n",
       " <a class=\"artist\" href=\"/artist/jere-mahoney-top-songs\" itemprop=\"byArtist\">\n",
       " Jere Mahoney\n",
       " </a>,\n",
       " <a class=\"artist\" href=\"/artist/peerless-orchestra-top-songs\" itemprop=\"byArtist\">\n",
       " Len Spencer\n",
       " </a>,\n",
       " <a class=\"artist\" href=\"/artist/jere-mahoney-top-songs\" itemprop=\"byArtist\">\n",
       " Jere Mahoney\n",
       " </a>,\n",
       " <a class=\"artist\" href=\"/artist/steve-porter-top-songs\" itemprop=\"byArtist\">\n",
       " Steve Porter\n",
       " </a>,\n",
       " <a class=\"artist\" href=\"/artist/vess-l-ossman-top-songs\" itemprop=\"byArtist\">\n",
       " Vess Ossman\n",
       " </a>,\n",
       " <a class=\"artist\" href=\"/artist/vess-l-ossman-top-songs\" itemprop=\"byArtist\">\n",
       " Vess Ossman\n",
       " </a>,\n",
       " <a class=\"artist\" href=\"/artist/harry-macdonough-top-songs\" itemprop=\"byArtist\">\n",
       " Harry MacDonough\n",
       " </a>,\n",
       " <a class=\"artist\" href=\"/artist/harry-macdonough-top-songs\" itemprop=\"byArtist\">\n",
       " Harry MacDonough\n",
       " </a>,\n",
       " <a class=\"artist\" href=\"/artist/byron-g-harlan-top-songs\" itemprop=\"byArtist\">\n",
       " Byron G Harlan &amp; AD Madeira\n",
       " </a>,\n",
       " <a class=\"artist\" href=\"/artist/albert-c-campbell-top-songs\" itemprop=\"byArtist\">\n",
       " Albert Campbell\n",
       " </a>,\n",
       " <a class=\"artist\" href=\"/artist/harry-macdonough-top-songs\" itemprop=\"byArtist\">\n",
       " Harry MacDonough &amp; Grace Spencer\n",
       " </a>,\n",
       " <a class=\"artist\" href=\"/artist/harry-macdonough-top-songs\" itemprop=\"byArtist\">\n",
       " Harry MacDonough\n",
       " </a>,\n",
       " <a class=\"artist\" href=\"/artist/dan-w-quinn-top-songs\" itemprop=\"byArtist\">\n",
       " Dan Quinn\n",
       " </a>,\n",
       " <a class=\"artist\" href=\"/artist/harry-macdonough-top-songs\" itemprop=\"byArtist\">\n",
       " Harry MacDonough\n",
       " </a>,\n",
       " <a class=\"artist\" href=\"/artist/jw-myers-top-songs\" itemprop=\"byArtist\">\n",
       " JW Myers\n",
       " </a>,\n",
       " <a class=\"artist\" href=\"/artist/gus-elen-top-songs\" itemprop=\"byArtist\">\n",
       " Gus Glen\n",
       " </a>,\n",
       " <a class=\"artist\" href=\"/artist/harry-magee-top-songs\" itemprop=\"byArtist\">\n",
       " Harry MacDonough\n",
       " </a>,\n",
       " <a class=\"artist\" href=\"/artist/mustard-plug-top-songs\" itemprop=\"byArtist\">\n",
       " Dan Quinn\n",
       " </a>,\n",
       " <a class=\"artist\" href=\"/artist/american-quartet-top-songs\" itemprop=\"byArtist\">\n",
       " American Quartet\n",
       " </a>,\n",
       " <a class=\"artist\" href=\"/artist/arthur-christian-top-songs\" itemprop=\"byArtist\">\n",
       " Arthur Christian\n",
       " </a>,\n",
       " <a class=\"artist\" href=\"/artist/steve-porter-top-songs\" itemprop=\"byArtist\">\n",
       " Steve Porter\n",
       " </a>,\n",
       " <a class=\"artist\" href=\"/artist/albert-c-campbell-top-songs\" itemprop=\"byArtist\">\n",
       " Albert Campbell\n",
       " </a>,\n",
       " <a class=\"artist\" href=\"/artist/harry-macdonough-top-songs\" itemprop=\"byArtist\">\n",
       " Harry MacDonough\n",
       " </a>,\n",
       " <a class=\"artist\" href=\"/artist/edward-m-favor-top-songs\" itemprop=\"byArtist\">\n",
       " Edward M Favor\n",
       " </a>,\n",
       " <a class=\"artist\" href=\"/artist/peter-dawson-top-songs\" itemprop=\"byArtist\">\n",
       " Peter Dawson\n",
       " </a>,\n",
       " <a class=\"artist\" href=\"/artist/harry-macdonough-top-songs\" itemprop=\"byArtist\">\n",
       " Harry MacDonough\n",
       " </a>,\n",
       " <a class=\"artist\" href=\"/artist/dan-w-quinn-top-songs\" itemprop=\"byArtist\">\n",
       " Dan Quinn\n",
       " </a>,\n",
       " <a class=\"artist\" href=\"/artist/félix-mayol-top-songs\" itemprop=\"byArtist\">\n",
       " Felix Mayol\n",
       " </a>,\n",
       " <a class=\"artist\" href=\"/artist/polin-top-songs\" itemprop=\"byArtist\">\n",
       " Polin\n",
       " </a>]"
      ]
     },
     "execution_count": 32,
     "metadata": {},
     "output_type": "execute_result"
    }
   ],
   "source": [
    "soup.select(\"td:nth-child(2) > a\")"
   ]
  },
  {
   "cell_type": "code",
   "execution_count": null,
   "id": "1a36299d",
   "metadata": {},
   "outputs": [],
   "source": [
    "# songs_parsed = []\n",
    "# titles = []\n",
    "# artist = []\n",
    "\n",
    "# for i in range(len(songs)):\n",
    "#     songs_parsed.append(BeautifulSoup(songs[i].content, \"html.parser\"))\n",
    "#     for j in range(len(soups.select(\"td.mobile-hide > a > span.song\"))):\n",
    "#         titles.append(songs_parsed[i].select(\"td.mobile-hide > a > span.song\")[j].get_text())\n",
    "#         artist.append(songs_parsed[i].select(\"td:nth-child(2) > a\")[j].get_text().strip())       \n",
    "    \n",
    "# print(len(titles))\n",
    "# print(len(artist))"
   ]
  },
  {
   "cell_type": "code",
   "execution_count": 37,
   "id": "fe407ce6",
   "metadata": {},
   "outputs": [
    {
     "name": "stdout",
     "output_type": "stream",
     "text": [
      "765\n",
      "765\n"
     ]
    }
   ],
   "source": [
    "titles = []\n",
    "artist = []\n",
    "for i in range(len(songs)):\n",
    "    soupa=BeautifulSoup(songs[i].content, \"html.parser\")\n",
    "    for j in range(len(soupa.select(\"td.mobile-hide > a > span.song\"))):\n",
    "        titles.append(soupa.select(\"td.mobile-hide > a > span.song\")[j].get_text())\n",
    "        artist.append(soupa.select(\"td:nth-child(2) > a\")[j].get_text().strip())\n",
    "# topsongs = pd.DataFrame({'artist':artist,'titles':titles\n",
    "#                          })\n",
    "        \n",
    "print(len(titles))\n",
    "print(len(artist))"
   ]
  },
  {
   "cell_type": "code",
   "execution_count": 39,
   "id": "3eb1d57c",
   "metadata": {},
   "outputs": [],
   "source": [
    "# for i in range(len(songs)):\n",
    "#     soupa=BeautifulSoup(songs[i].content, \"html.parser\")\n",
    "#     for j in range(len(soupa.select(\"td.mobile-hide > a > span.song\"))):\n",
    "#         print(soupa.select(\"td.mobile-hide > a > span.song\")[j].get_text())"
   ]
  },
  {
   "cell_type": "code",
   "execution_count": 41,
   "id": "3be291a3",
   "metadata": {},
   "outputs": [
    {
     "data": {
      "text/plain": [
       "(765, 2)"
      ]
     },
     "metadata": {},
     "output_type": "display_data"
    },
    {
     "data": {
      "text/html": [
       "<div>\n",
       "<style scoped>\n",
       "    .dataframe tbody tr th:only-of-type {\n",
       "        vertical-align: middle;\n",
       "    }\n",
       "\n",
       "    .dataframe tbody tr th {\n",
       "        vertical-align: top;\n",
       "    }\n",
       "\n",
       "    .dataframe thead th {\n",
       "        text-align: right;\n",
       "    }\n",
       "</style>\n",
       "<table border=\"1\" class=\"dataframe\">\n",
       "  <thead>\n",
       "    <tr style=\"text-align: right;\">\n",
       "      <th></th>\n",
       "      <th>artist</th>\n",
       "      <th>titles</th>\n",
       "    </tr>\n",
       "  </thead>\n",
       "  <tbody>\n",
       "    <tr>\n",
       "      <th>0</th>\n",
       "      <td>Arthur Collins</td>\n",
       "      <td>Ma Tiger Lily</td>\n",
       "    </tr>\n",
       "    <tr>\n",
       "      <th>1</th>\n",
       "      <td>Albert Campbell</td>\n",
       "      <td>Ma Blushin' Rosie</td>\n",
       "    </tr>\n",
       "    <tr>\n",
       "      <th>2</th>\n",
       "      <td>George J Gaskin</td>\n",
       "      <td>When Cloe Sings a Song</td>\n",
       "    </tr>\n",
       "    <tr>\n",
       "      <th>3</th>\n",
       "      <td>Haydn Quartet</td>\n",
       "      <td>Because</td>\n",
       "    </tr>\n",
       "    <tr>\n",
       "      <th>4</th>\n",
       "      <td>George J Gaskin</td>\n",
       "      <td>When You Were Sweet Sixteen</td>\n",
       "    </tr>\n",
       "  </tbody>\n",
       "</table>\n",
       "</div>"
      ],
      "text/plain": [
       "            artist                       titles\n",
       "0   Arthur Collins                Ma Tiger Lily\n",
       "1  Albert Campbell            Ma Blushin' Rosie\n",
       "2  George J Gaskin       When Cloe Sings a Song\n",
       "3    Haydn Quartet                      Because\n",
       "4  George J Gaskin  When You Were Sweet Sixteen"
      ]
     },
     "execution_count": 41,
     "metadata": {},
     "output_type": "execute_result"
    }
   ],
   "source": [
    "topsongs = pd.DataFrame({'artist':artist,\n",
    "                         'titles':titles})\n",
    "display(topsongs.shape)\n",
    "topsongs.head()"
   ]
  },
  {
   "cell_type": "code",
   "execution_count": null,
   "id": "87ee734b",
   "metadata": {},
   "outputs": [],
   "source": []
  }
 ],
 "metadata": {
  "kernelspec": {
   "display_name": "Python 3",
   "language": "python",
   "name": "python3"
  },
  "language_info": {
   "codemirror_mode": {
    "name": "ipython",
    "version": 3
   },
   "file_extension": ".py",
   "mimetype": "text/x-python",
   "name": "python",
   "nbconvert_exporter": "python",
   "pygments_lexer": "ipython3",
   "version": "3.8.8"
  }
 },
 "nbformat": 4,
 "nbformat_minor": 5
}
